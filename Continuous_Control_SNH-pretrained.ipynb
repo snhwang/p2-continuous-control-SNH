{
 "cells": [
  {
   "cell_type": "markdown",
   "metadata": {},
   "source": [
    "# Continuous Control\n",
    "\n",
    "---\n",
    "\n",
    "In this notebook, you will learn how to use the Unity ML-Agents environment for the second project of the [Deep Reinforcement Learning Nanodegree](https://www.udacity.com/course/deep-reinforcement-learning-nanodegree--nd893) program.\n",
    "\n",
    "### 1. Start the Environment\n",
    "\n",
    "We begin by importing the necessary packages.  If the code cell below returns an error, please revisit the project instructions to double-check that you have installed [Unity ML-Agents](https://github.com/Unity-Technologies/ml-agents/blob/master/docs/Installation.md) and [NumPy](http://www.numpy.org/)."
   ]
  },
  {
   "cell_type": "code",
   "execution_count": 1,
   "metadata": {},
   "outputs": [
    {
     "name": "stdout",
     "output_type": "stream",
     "text": [
      "cuda:0\n"
     ]
    }
   ],
   "source": [
    "from unityagents import UnityEnvironment\n",
    "import numpy as np\n",
    "import matplotlib.pyplot as plt\n",
    "from collections import deque\n",
    "import torch\n",
    "from ddpg_agent import Agent, load_and_run\n"
   ]
  },
  {
   "cell_type": "markdown",
   "metadata": {},
   "source": [
    "Next, we will start the environment!  **_Before running the code cell below_**, change the `file_name` parameter to match the location of the Unity environment that you downloaded. For example, the following are the default folder and file names. However, if you copied both version 1 (single agent) and version 2 (20 agents) folders, they may have different names if you changed them.\n",
    "\n",
    "- **Mac**: `\"path/to/Reacher.app\"`\n",
    "- **Windows** (x86): `\"path/to/Reacher_Windows_x86/Reacher.exe\"`\n",
    "- **Windows** (x86_64): `\"path/to/Reacher_Windows_x86_64/Reacher.exe\"`\n",
    "- **Linux** (x86): `\"path/to/Reacher_Linux/Reacher.x86\"`\n",
    "- **Linux** (x86_64): `\"path/to/Reacher_Linux/Reacher.x86_64\"`\n",
    "- **Linux** (x86, headless): `\"path/to/Reacher_Linux_NoVis/Reacher.x86\"`\n",
    "- **Linux** (x86_64, headless): `\"path/to/Reacher_Linux_NoVis/Reacher.x86_64\"`\n",
    "\n",
    "For instance, if you are using a Mac, then you downloaded `Reacher.app`.  If this file is in the same folder as the notebook, then the line below should appear as follows:\n",
    "```\n",
    "env = UnityEnvironment(file_name=\"Reacher.app\")\n",
    "```"
   ]
  },
  {
   "cell_type": "code",
   "execution_count": 2,
   "metadata": {},
   "outputs": [
    {
     "name": "stderr",
     "output_type": "stream",
     "text": [
      "INFO:unityagents:\n",
      "'Academy' started successfully!\n",
      "Unity Academy name: Academy\n",
      "        Number of Brains: 1\n",
      "        Number of External Brains : 1\n",
      "        Lesson number : 0\n",
      "        Reset Parameters :\n",
      "\t\tgoal_speed -> 1.0\n",
      "\t\tgoal_size -> 5.0\n",
      "Unity brain name: ReacherBrain\n",
      "        Number of Visual Observations (per agent): 0\n",
      "        Vector Observation space type: continuous\n",
      "        Vector Observation space size (per agent): 33\n",
      "        Number of stacked Vector Observation: 1\n",
      "        Vector Action space type: continuous\n",
      "        Vector Action space size (per agent): 4\n",
      "        Vector Action descriptions: , , , \n"
     ]
    }
   ],
   "source": [
    "env = UnityEnvironment(file_name='./Reacher_Windows_x86_64_v2/Reacher.exe')"
   ]
  },
  {
   "cell_type": "markdown",
   "metadata": {},
   "source": [
    "Environments contain **_brains_** which are responsible for deciding the actions of their associated agents. Here we check for the first brain available, and set it as the default brain we will be controlling from Python."
   ]
  },
  {
   "cell_type": "code",
   "execution_count": 3,
   "metadata": {},
   "outputs": [],
   "source": [
    "# get the default brain\n",
    "brain_name = env.brain_names[0]\n",
    "brain = env.brains[brain_name]"
   ]
  },
  {
   "cell_type": "markdown",
   "metadata": {},
   "source": [
    "### 2. Examine the State and Action Spaces\n",
    "\n",
    "In this environment, a double-jointed arm can move to target locations. A reward of `+0.1` is provided for each step that the agent's hand is in the goal location. Thus, the goal of your agent is to maintain its position at the target location for as many time steps as possible.\n",
    "\n",
    "The observation space consists of `33` variables corresponding to position, rotation, velocity, and angular velocities of the arm.  Each action is a vector with four numbers, corresponding to torque applicable to two joints.  Every entry in the action vector must be a number between `-1` and `1`.\n",
    "\n",
    "Run the code cell below to print some information about the environment."
   ]
  },
  {
   "cell_type": "code",
   "execution_count": 4,
   "metadata": {
    "scrolled": true
   },
   "outputs": [
    {
     "name": "stdout",
     "output_type": "stream",
     "text": [
      "Number of agents: 20\n",
      "Size of each action: 4\n",
      "There are 20 agents. Each observes a state with length: 33\n",
      "The state for the first agent looks like: [ 0.00000000e+00 -4.00000000e+00  0.00000000e+00  1.00000000e+00\n",
      " -0.00000000e+00 -0.00000000e+00 -4.37113883e-08  0.00000000e+00\n",
      "  0.00000000e+00  0.00000000e+00  0.00000000e+00  0.00000000e+00\n",
      "  0.00000000e+00  0.00000000e+00 -1.00000000e+01  0.00000000e+00\n",
      "  1.00000000e+00 -0.00000000e+00 -0.00000000e+00 -4.37113883e-08\n",
      "  0.00000000e+00  0.00000000e+00  0.00000000e+00  0.00000000e+00\n",
      "  0.00000000e+00  0.00000000e+00  5.75471878e+00 -1.00000000e+00\n",
      "  5.55726624e+00  0.00000000e+00  1.00000000e+00  0.00000000e+00\n",
      " -1.68164849e-01]\n"
     ]
    }
   ],
   "source": [
    "# reset the environment\n",
    "env_info = env.reset(train_mode=True)[brain_name]\n",
    "\n",
    "# number of agents\n",
    "num_agents = len(env_info.agents)\n",
    "print('Number of agents:', num_agents)\n",
    "\n",
    "# size of each action\n",
    "action_size = brain.vector_action_space_size\n",
    "print('Size of each action:', action_size)\n",
    "\n",
    "# examine the state space \n",
    "states = env_info.vector_observations\n",
    "state_size = states.shape[1]\n",
    "print('There are {} agents. Each observes a state with length: {}'.format(states.shape[0], state_size))\n",
    "print('The state for the first agent looks like:', states[0])\n",
    "\n"
   ]
  },
  {
   "cell_type": "markdown",
   "metadata": {},
   "source": [
    "## 3. Declare the Learning Agent\n",
    "\n",
    "Agent has the following parameters:\n",
    "\n",
    "    state_size: Number of parameters defining the environmen state\n",
    "    action_size: Number of pameters definine the actions\n",
    "    num_agents: Number of learning agents\n",
    "    random_seed: Random seed number\n",
    "    batch_size: Batch size for neural network training\n",
    "    lr_actor: Learning rate for the actor neural network\n",
    "    lr_critic: Learning rate for the critic neural network\n",
    "    noise_theta (float): theta for Ornstein-Uhlenbeck noise process\n",
    "    noise_sigma (float): sigma for Ornstein-Uhlenbeck noise process\n",
    "    actor_fc1 (int): Number of hidden units in the first fully connected layer of the actor network\n",
    "    actor_fc2: Units in second layer\n",
    "    actor_fc3: Units in third fully connected layer. This parameter does nothing for the \"RELU\" network\n",
    "    critic_fc1: Number of hidden units in the first fully connected layer of the critic network\n",
    "    critic_fc2: Units in second layer\n",
    "    critic_fc3: Units in third layer. This parameter does nothing for the \"RELU\" network\n",
    "    update_every: The number of time steps between each updating of the neural networks \n",
    "    num_updates: The number of times to update the networks at every update_every interval\n",
    "    buffer_size: Buffer size for experience replay. Default 2e6.\n",
    "    network (string): The name of the neural networks that are used for learning.\n",
    "        There are \tonly 2 choices, one with only 2 fully connected layers and RELU activations and one\n",
    "        with 3 fully connected layers with SELU activations.\n",
    "        Their names are \"RELU\" and \"SELU,\" respectively. Default is \"RELU.\"\n"
   ]
  },
  {
   "cell_type": "code",
   "execution_count": 5,
   "metadata": {},
   "outputs": [],
   "source": [
    "agent = Agent(\n",
    "    state_size = state_size,\n",
    "    action_size = action_size,\n",
    "    num_agents = num_agents,\n",
    "    network = 'RELU'\n",
    ")\n"
   ]
  },
  {
   "cell_type": "markdown",
   "metadata": {},
   "source": [
    "## 4. Run the Trained Agent\n"
   ]
  },
  {
   "cell_type": "code",
   "execution_count": 6,
   "metadata": {
    "scrolled": false
   },
   "outputs": [
    {
     "name": "stdout",
     "output_type": "stream",
     "text": [
      "Ep 1\tScore: 38.84\n",
      "Ep 2\tScore: 38.56\n",
      "Ep 3\tScore: 38.60\n",
      "Ep 4\tScore: 38.21\n",
      "Ep 5\tScore: 38.48\n",
      "Ep 6\tScore: 38.26\n",
      "Ep 7\tScore: 38.41\n",
      "Ep 8\tScore: 38.53\n",
      "Ep 9\tScore: 38.42\n",
      "Ep 10\tScore: 38.88\n",
      "Ep 11\tScore: 38.54\n",
      "Ep 12\tScore: 37.84\n",
      "Ep 13\tScore: 38.06\n",
      "Ep 14\tScore: 38.68\n",
      "Ep 15\tScore: 38.48\n",
      "Ep 16\tScore: 38.14\n",
      "Ep 17\tScore: 38.01\n",
      "Ep 18\tScore: 38.16\n",
      "Ep 19\tScore: 38.45\n",
      "Ep 20\tScore: 37.93\n",
      "Ep 21\tScore: 38.22\n",
      "Ep 22\tScore: 38.44\n",
      "Ep 23\tScore: 38.62\n",
      "Ep 24\tScore: 38.18\n",
      "Ep 25\tScore: 38.47\n",
      "Ep 26\tScore: 38.53\n",
      "Ep 27\tScore: 38.71\n",
      "Ep 28\tScore: 38.45\n",
      "Ep 29\tScore: 38.78\n",
      "Ep 30\tScore: 38.57\n",
      "Ep 31\tScore: 38.25\n",
      "Ep 32\tScore: 38.81\n",
      "Ep 33\tScore: 38.73\n",
      "Ep 34\tScore: 38.67\n",
      "Ep 35\tScore: 38.13\n",
      "Ep 36\tScore: 38.41\n",
      "Ep 37\tScore: 38.36\n",
      "Ep 38\tScore: 38.50\n",
      "Ep 39\tScore: 38.23\n",
      "Ep 40\tScore: 38.29\n",
      "Ep 41\tScore: 38.18\n",
      "Ep 42\tScore: 38.57\n",
      "Ep 43\tScore: 38.89\n",
      "Ep 44\tScore: 38.10\n",
      "Ep 45\tScore: 38.37\n",
      "Ep 46\tScore: 38.46\n",
      "Ep 47\tScore: 38.64\n",
      "Ep 48\tScore: 38.27\n",
      "Ep 49\tScore: 38.28\n",
      "Ep 50\tScore: 38.55\n",
      "Ep 51\tScore: 38.44\n",
      "Ep 52\tScore: 38.67\n",
      "Ep 53\tScore: 38.66\n",
      "Ep 54\tScore: 38.74\n",
      "Ep 55\tScore: 38.20\n",
      "Ep 56\tScore: 38.71\n",
      "Ep 57\tScore: 38.39\n",
      "Ep 58\tScore: 38.18\n",
      "Ep 59\tScore: 38.39\n",
      "Ep 60\tScore: 38.40\n",
      "Ep 61\tScore: 38.58\n",
      "Ep 62\tScore: 38.32\n",
      "Ep 63\tScore: 38.58\n",
      "Ep 64\tScore: 38.36\n",
      "Ep 65\tScore: 38.45\n",
      "Ep 66\tScore: 38.50\n",
      "Ep 67\tScore: 38.44\n",
      "Ep 68\tScore: 38.62\n",
      "Ep 69\tScore: 38.65\n",
      "Ep 70\tScore: 38.75\n",
      "Ep 71\tScore: 38.62\n",
      "Ep 72\tScore: 38.68\n",
      "Ep 73\tScore: 38.52\n",
      "Ep 74\tScore: 38.58\n",
      "Ep 75\tScore: 38.38\n",
      "Ep 76\tScore: 38.69\n",
      "Ep 77\tScore: 38.54\n",
      "Ep 78\tScore: 38.55\n",
      "Ep 79\tScore: 38.41\n",
      "Ep 80\tScore: 38.31\n",
      "Ep 81\tScore: 38.05\n",
      "Ep 82\tScore: 38.37\n",
      "Ep 83\tScore: 37.99\n",
      "Ep 84\tScore: 38.50\n",
      "Ep 85\tScore: 38.44\n",
      "Ep 86\tScore: 38.47\n",
      "Ep 87\tScore: 38.34\n",
      "Ep 88\tScore: 38.13\n",
      "Ep 89\tScore: 38.50\n",
      "Ep 90\tScore: 38.48\n",
      "Ep 91\tScore: 38.77\n",
      "Ep 92\tScore: 38.28\n",
      "Ep 93\tScore: 38.63\n",
      "Ep 94\tScore: 38.29\n",
      "Ep 95\tScore: 38.55\n",
      "Ep 96\tScore: 38.49\n",
      "Ep 97\tScore: 38.27\n",
      "Ep 98\tScore: 38.66\n",
      "Ep 99\tScore: 38.64\n",
      "Ep 100\tScore: 38.27\n",
      "Avg over 100 episodes: 38.45\n"
     ]
    }
   ],
   "source": [
    "load_and_run(\n",
    "    agent,\n",
    "    env,\n",
    "    \"v2_RELU_actor_best_agent_average.pth\",\n",
    "    \"v2_RELU_critic_best_agent_average.pth\",\n",
    "    100)"
   ]
  },
  {
   "cell_type": "markdown",
   "metadata": {},
   "source": [
    "When finished, you can close the environment."
   ]
  },
  {
   "cell_type": "code",
   "execution_count": 7,
   "metadata": {},
   "outputs": [],
   "source": [
    "env.close()"
   ]
  },
  {
   "cell_type": "code",
   "execution_count": null,
   "metadata": {},
   "outputs": [],
   "source": []
  }
 ],
 "metadata": {
  "kernelspec": {
   "display_name": "drlnd",
   "language": "python",
   "name": "drlnd"
  },
  "language_info": {
   "codemirror_mode": {
    "name": "ipython",
    "version": 3
   },
   "file_extension": ".py",
   "mimetype": "text/x-python",
   "name": "python",
   "nbconvert_exporter": "python",
   "pygments_lexer": "ipython3",
   "version": "3.6.6"
  }
 },
 "nbformat": 4,
 "nbformat_minor": 2
}
